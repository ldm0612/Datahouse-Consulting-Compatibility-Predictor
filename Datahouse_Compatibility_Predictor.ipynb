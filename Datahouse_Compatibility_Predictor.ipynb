{
  "nbformat": 4,
  "nbformat_minor": 0,
  "metadata": {
    "colab": {
      "provenance": [],
      "authorship_tag": "ABX9TyPe65vbhezU9qf3aVoL+cn+",
      "include_colab_link": true
    },
    "kernelspec": {
      "name": "python3",
      "display_name": "Python 3"
    },
    "language_info": {
      "name": "python"
    }
  },
  "cells": [
    {
      "cell_type": "markdown",
      "metadata": {
        "id": "view-in-github",
        "colab_type": "text"
      },
      "source": [
        "<a href=\"https://colab.research.google.com/github/ldm0612/Datahouse-Consulting-Compatibility-Predictor/blob/main/Datahouse_Compatibility_Predictor.ipynb\" target=\"_parent\"><img src=\"https://colab.research.google.com/assets/colab-badge.svg\" alt=\"Open In Colab\"/></a>"
      ]
    },
    {
      "cell_type": "code",
      "source": [
        "import numpy as np\n",
        "import json"
      ],
      "metadata": {
        "id": "WC4iB05qHc-_"
      },
      "execution_count": 18,
      "outputs": []
    },
    {
      "cell_type": "markdown",
      "source": [
        "1.**Read in sample input file.**"
      ],
      "metadata": {
        "id": "zJmXIoAI26mK"
      }
    },
    {
      "cell_type": "code",
      "source": [
        "with open(input_file.json, 'r') as json_file:\n",
        "    data = json.load(json_file)"
      ],
      "metadata": {
        "id": "6qcuxgz1OyOj"
      },
      "execution_count": null,
      "outputs": []
    },
    {
      "cell_type": "code",
      "execution_count": 39,
      "metadata": {
        "id": "HaKRvkPc2144"
      },
      "outputs": [],
      "source": [
        "jason_file = '''\n",
        "{\n",
        "  \"team\": [\n",
        "    {\n",
        "      \"name\": \"Eddie\",\n",
        "      \"attributes\": {\n",
        "        \"Endurance\": 9,\n",
        "        \"Intelligence\": 6,\n",
        "        \"SpicyFoodTolerance\": 1,\n",
        "        \"Leadership\": 7,\n",
        "        \"Strength\": 8,\n",
        "        \"Extroversion\": 3\n",
        "      }\n",
        "    },\n",
        "    {\n",
        "      \"name\": \"Tom\",\n",
        "      \"attributes\": {\n",
        "        \"Endurance\": 9,\n",
        "        \"Intelligence\": 6,\n",
        "        \"SpicyFoodTolerance\": 1,\n",
        "        \"Leadership\": 7,\n",
        "        \"Strength\": 8,\n",
        "        \"Extroversion\": 3\n",
        "      }\n",
        "    },\n",
        "    {\n",
        "      \"name\": \"Will\",\n",
        "      \"attributes\": {\n",
        "        \"Endurance\": 7,\n",
        "        \"Intelligence\": 2,\n",
        "        \"SpicyFoodTolerance\": 7,\n",
        "        \"Leadership\": 8,\n",
        "        \"Strength\": 2,\n",
        "        \"Extroversion\": 9\n",
        "      }\n",
        "    },\n",
        "    {\n",
        "      \"name\": \"Mike\",\n",
        "      \"attributes\": {\n",
        "        \"Endurance\": 8,\n",
        "        \"Intelligence\": 9,\n",
        "        \"SpicyFoodTolerance\": 9,\n",
        "        \"Leadership\": 7,\n",
        "        \"Strength\": 4,\n",
        "        \"Extroversion\": 6\n",
        "      }\n",
        "    }\n",
        "  ],\n",
        "  \"applicants\": [\n",
        "    {\n",
        "      \"name\": \"John\",\n",
        "      \"attributes\": {\n",
        "        \"Endurance\": 5,\n",
        "        \"Intelligence\": 5,\n",
        "        \"SpicyFoodTolerance\": 5,\n",
        "        \"Leadership\": 5,\n",
        "        \"Strength\": 5,\n",
        "        \"Extroversion\": 5\n",
        "      }\n",
        "    },\n",
        "    {\n",
        "      \"name\": \"Jane\",\n",
        "      \"attributes\": {\n",
        "        \"Endurance\": 9,\n",
        "        \"Intelligence\": 5,\n",
        "        \"SpicyFoodTolerance\": 3,\n",
        "        \"Leadership\": 6,\n",
        "        \"Strength\": 5,\n",
        "        \"Extroversion\": 2\n",
        "      }\n",
        "    },\n",
        "    {\n",
        "      \"name\": \"Gabe\",\n",
        "      \"attributes\": {\n",
        "        \"Endurance\": 3,\n",
        "        \"Intelligence\": 1,\n",
        "        \"SpicyFoodTolerance\": 10,\n",
        "        \"Leadership\": 10,\n",
        "        \"Strength\": 5,\n",
        "        \"Extroversion\": 7\n",
        "      }\n",
        "    },\n",
        "    {\n",
        "      \"name\": \"Joe\",\n",
        "      \"attributes\": {\n",
        "        \"Endurance\": 1,\n",
        "        \"Intelligence\": 2,\n",
        "        \"SpicyFoodTolerance\": 1,\n",
        "        \"Leadership\": 1,\n",
        "        \"Strength\": 10,\n",
        "        \"Extroversion\": 9\n",
        "      }\n",
        "    }\n",
        "  ]\n",
        "}\n",
        "'''"
      ]
    },
    {
      "cell_type": "code",
      "source": [
        "data = json.loads(jason_file)\n",
        "team_members = data['team']\n",
        "applicants = data['applicants']"
      ],
      "metadata": {
        "id": "OUlC3Tr34zW4"
      },
      "execution_count": 40,
      "outputs": []
    },
    {
      "cell_type": "code",
      "source": [
        "team_members"
      ],
      "metadata": {
        "colab": {
          "base_uri": "https://localhost:8080/"
        },
        "id": "g9lzn5EK-OSQ",
        "outputId": "8743233c-688d-44a5-e521-8f86ca2aea89"
      },
      "execution_count": 42,
      "outputs": [
        {
          "output_type": "execute_result",
          "data": {
            "text/plain": [
              "[{'name': 'Eddie',\n",
              "  'attributes': {'Endurance': 9,\n",
              "   'Intelligence': 6,\n",
              "   'SpicyFoodTolerance': 1,\n",
              "   'Leadership': 7,\n",
              "   'Strength': 8,\n",
              "   'Extroversion': 3}},\n",
              " {'name': 'Tom',\n",
              "  'attributes': {'Endurance': 9,\n",
              "   'Intelligence': 6,\n",
              "   'SpicyFoodTolerance': 1,\n",
              "   'Leadership': 7,\n",
              "   'Strength': 8,\n",
              "   'Extroversion': 3}},\n",
              " {'name': 'Will',\n",
              "  'attributes': {'Endurance': 7,\n",
              "   'Intelligence': 2,\n",
              "   'SpicyFoodTolerance': 7,\n",
              "   'Leadership': 8,\n",
              "   'Strength': 2,\n",
              "   'Extroversion': 9}},\n",
              " {'name': 'Mike',\n",
              "  'attributes': {'Endurance': 8,\n",
              "   'Intelligence': 9,\n",
              "   'SpicyFoodTolerance': 9,\n",
              "   'Leadership': 7,\n",
              "   'Strength': 4,\n",
              "   'Extroversion': 6}}]"
            ]
          },
          "metadata": {},
          "execution_count": 42
        }
      ]
    },
    {
      "cell_type": "code",
      "source": [
        "applicants"
      ],
      "metadata": {
        "colab": {
          "base_uri": "https://localhost:8080/"
        },
        "id": "_uK-pGWiF6uz",
        "outputId": "e29b45a0-7b61-4256-9f52-15bca10024e5"
      },
      "execution_count": 43,
      "outputs": [
        {
          "output_type": "execute_result",
          "data": {
            "text/plain": [
              "[{'name': 'John',\n",
              "  'attributes': {'Endurance': 5,\n",
              "   'Intelligence': 5,\n",
              "   'SpicyFoodTolerance': 5,\n",
              "   'Leadership': 5,\n",
              "   'Strength': 5,\n",
              "   'Extroversion': 5}},\n",
              " {'name': 'Jane',\n",
              "  'attributes': {'Endurance': 9,\n",
              "   'Intelligence': 5,\n",
              "   'SpicyFoodTolerance': 3,\n",
              "   'Leadership': 6,\n",
              "   'Strength': 5,\n",
              "   'Extroversion': 2}},\n",
              " {'name': 'Gabe',\n",
              "  'attributes': {'Endurance': 3,\n",
              "   'Intelligence': 1,\n",
              "   'SpicyFoodTolerance': 10,\n",
              "   'Leadership': 10,\n",
              "   'Strength': 5,\n",
              "   'Extroversion': 7}},\n",
              " {'name': 'Joe',\n",
              "  'attributes': {'Endurance': 1,\n",
              "   'Intelligence': 2,\n",
              "   'SpicyFoodTolerance': 1,\n",
              "   'Leadership': 1,\n",
              "   'Strength': 10,\n",
              "   'Extroversion': 9}}]"
            ]
          },
          "metadata": {},
          "execution_count": 43
        }
      ]
    },
    {
      "cell_type": "markdown",
      "source": [
        "2. **Calculate team average for each attribute.**"
      ],
      "metadata": {
        "id": "e7n0PJQ98vKj"
      }
    },
    {
      "cell_type": "code",
      "source": [
        "# Create a list that stores the attribute scores for all team members\n",
        "team_attributes= list(member[\"attributes\"] for member in team_members )\n",
        "\n",
        "# Create the list that contain the names of the attributes\n",
        "attributes_list=list(team_attributes[1].keys())"
      ],
      "metadata": {
        "id": "MvFmdxqMLoi4"
      },
      "execution_count": 44,
      "outputs": []
    },
    {
      "cell_type": "code",
      "source": [
        "attribute_mean_dict={key: 0 for key in attributes_list}\n",
        "\n",
        "# Sum up the scores stored in team_attributes previously\n",
        "for member in team_attributes:\n",
        "  for attribute, score in member.items():\n",
        "    attribute_mean_dict[attribute] += score\n",
        "\n",
        "# Divide the score by the number of team members\n",
        "for attribute, score in attribute_mean_dict.items():\n",
        "  attribute_mean_dict[attribute] = score / len(team_attributes)\n",
        "\n",
        "attribute_mean_dict"
      ],
      "metadata": {
        "colab": {
          "base_uri": "https://localhost:8080/"
        },
        "id": "BR-zR48hF_Jd",
        "outputId": "1121d04d-35d3-4624-d772-cd161abd94b5"
      },
      "execution_count": 45,
      "outputs": [
        {
          "output_type": "execute_result",
          "data": {
            "text/plain": [
              "{'Endurance': 8.25,\n",
              " 'Intelligence': 5.75,\n",
              " 'SpicyFoodTolerance': 4.5,\n",
              " 'Leadership': 7.25,\n",
              " 'Strength': 5.5,\n",
              " 'Extroversion': 5.25}"
            ]
          },
          "metadata": {},
          "execution_count": 45
        }
      ]
    },
    {
      "cell_type": "markdown",
      "source": [
        "3. **Check for polarization for each attribute.**"
      ],
      "metadata": {
        "id": "oG_9OwHy8kHh"
      }
    },
    {
      "cell_type": "code",
      "source": [
        "# Create a dictionary that stores the categories of each attribute, including:\n",
        "#   1. Is this attribute we value the most or is it just good to have\n",
        "#   2. Do we want to find new applicants that are similar or diverse in this attribute to our team members?\n",
        "#   3. Are our current team members polarized in this attribute (False by default)\n",
        "attribute_cat={\n",
        "  'Endurance': [\"Value the most\", \"Similar\", False],\n",
        "  'Intelligence': [\"Value the most\", \"Similar\", False],\n",
        "  'SpicyFoodTolerance': [\"Good to have\", \"Similar\", False],\n",
        "  'Leadership': [\"Value the most\", \"Diverse\", False],\n",
        "  'Strength': [\"Good to have\", \"Diverse\", False],\n",
        "  'Extroversion': [\"Good to have\", \"Diverse\", False]\n",
        "  }"
      ],
      "metadata": {
        "id": "u0bjrnrwD7Ep"
      },
      "execution_count": 46,
      "outputs": []
    },
    {
      "cell_type": "code",
      "source": [
        "# This function checks whether our current team members are polarized in an attribute\n",
        "\n",
        "def check_polar(attributes_cat):\n",
        "\n",
        "  # If the difference in mean scores is more than 4, than we consider our team to be polarized in this attribute\n",
        "  polarization_threshold=4\n",
        "\n",
        "  for attribute in attributes_list:\n",
        "    # Extract all the score for the attribute from our members\n",
        "    team_score=[member[attribute] for member in team_attributes]\n",
        "\n",
        "    # Rank the scores from high to low\n",
        "    sorted_team_score=sorted(team_score, reverse=True)\n",
        "\n",
        "    # Find the midpoint score, here we used the floor division\n",
        "    midpoint = len(sorted_team_score) // 2\n",
        "\n",
        "    # Finding the mean for the higher half and the lower half\n",
        "    first_half_mean = np.mean(sorted_team_score[:midpoint])\n",
        "    second_half_mean = np.mean(sorted_team_score[midpoint:])\n",
        "\n",
        "    # If the difference between the two means is greater than our set threshold, we mark the attribute as polarized.\n",
        "    if first_half_mean-second_half_mean > polarization_threshold:\n",
        "      attributes_cat[attribute][2]=True\n",
        "\n",
        "  return attributes_cat"
      ],
      "metadata": {
        "id": "uAeuwIjg9Q30"
      },
      "execution_count": 47,
      "outputs": []
    },
    {
      "cell_type": "code",
      "source": [
        "attribute_cat=check_polar(attribute_cat)\n",
        "attribute_cat"
      ],
      "metadata": {
        "colab": {
          "base_uri": "https://localhost:8080/"
        },
        "id": "6d2SqXsUCAgg",
        "outputId": "2e8f4c04-69d5-4c57-c1aa-3f07d984ac78"
      },
      "execution_count": 49,
      "outputs": [
        {
          "output_type": "execute_result",
          "data": {
            "text/plain": [
              "{'Endurance': ['Value the most', 'Similar', False],\n",
              " 'Intelligence': ['Value the most', 'Similar', False],\n",
              " 'SpicyFoodTolerance': ['Good to have', 'Similar', True],\n",
              " 'Leadership': ['Value the most', 'Diverse', False],\n",
              " 'Strength': ['Good to have', 'Diverse', True],\n",
              " 'Extroversion': ['Good to have', 'Diverse', True]}"
            ]
          },
          "metadata": {},
          "execution_count": 49
        }
      ]
    },
    {
      "cell_type": "markdown",
      "source": [
        "4. **Computing the final score for each applicant**"
      ],
      "metadata": {
        "id": "bZ5uwEzt2wRU"
      }
    },
    {
      "cell_type": "code",
      "source": [
        "# Here, we use a simple linear interpolation to convert the raw score to the final score\n",
        "# Our input raw score range from 0 to 10, the raw score comes from the difference between the applicant's score and the team's mean score\n",
        "# How the output score is generated by the raw score is based on the category of the specific attribute.\n",
        "# Our output score for \"Value the most\" attribute range from 0-0.8; output score for \"Good to have\" attributes range from 0-0.2\n",
        "def linear_scaling(x, v_or_g, s_or_d, polarized):\n",
        "    x1 = 0\n",
        "    x2 = 10\n",
        "    if v_or_g == \"Value the most\":\n",
        "       y1= 0.7\n",
        "    elif v_or_g == \"Good to have\":\n",
        "      y1 = 0.3\n",
        "    y2 = 0\n",
        "\n",
        "    if (s_or_d == \"Similar\" and polarized == False) or (s_or_d == \"Diverse\" and polarized == True):\n",
        "      score = y1+((y2-y1)/(x2-x1))*(x-x1)\n",
        "    elif (s_or_d == \"Similar\" and polarized == True) or (s_or_d == \"Diverse\" and polarized == False):\n",
        "      score = y1-(y1+((y2-y1)/(x2-x1))*(x-x1))\n",
        "    else:\n",
        "      print(\"Error\")\n",
        "\n",
        "    return round(score, 1)"
      ],
      "metadata": {
        "id": "X6xFQn9X22aU"
      },
      "execution_count": 78,
      "outputs": []
    },
    {
      "cell_type": "code",
      "source": [
        "applicants"
      ],
      "metadata": {
        "colab": {
          "base_uri": "https://localhost:8080/"
        },
        "id": "ko7bPO2g_n0_",
        "outputId": "d7cb1855-3859-4063-a34b-d6f6f25a64bf"
      },
      "execution_count": 79,
      "outputs": [
        {
          "output_type": "execute_result",
          "data": {
            "text/plain": [
              "[{'name': 'John',\n",
              "  'attributes': {'Endurance': 5,\n",
              "   'Intelligence': 5,\n",
              "   'SpicyFoodTolerance': 5,\n",
              "   'Leadership': 5,\n",
              "   'Strength': 5,\n",
              "   'Extroversion': 5}},\n",
              " {'name': 'Jane',\n",
              "  'attributes': {'Endurance': 9,\n",
              "   'Intelligence': 5,\n",
              "   'SpicyFoodTolerance': 3,\n",
              "   'Leadership': 6,\n",
              "   'Strength': 5,\n",
              "   'Extroversion': 2}},\n",
              " {'name': 'Gabe',\n",
              "  'attributes': {'Endurance': 3,\n",
              "   'Intelligence': 1,\n",
              "   'SpicyFoodTolerance': 10,\n",
              "   'Leadership': 10,\n",
              "   'Strength': 5,\n",
              "   'Extroversion': 7}},\n",
              " {'name': 'Joe',\n",
              "  'attributes': {'Endurance': 1,\n",
              "   'Intelligence': 2,\n",
              "   'SpicyFoodTolerance': 1,\n",
              "   'Leadership': 1,\n",
              "   'Strength': 10,\n",
              "   'Extroversion': 9}}]"
            ]
          },
          "metadata": {},
          "execution_count": 79
        }
      ]
    },
    {
      "cell_type": "code",
      "source": [
        "scoredApplicants = []\n",
        "\n",
        "for applicant in applicants:\n",
        "  applicant_attributes = applicant[\"attributes\"]\n",
        "\n",
        "  # Initialize two list to store the scores for \"Value the most\" attributes and \"Good to have\" attributes separately\n",
        "  v_scores=[]\n",
        "  g_scores=[]\n",
        "\n",
        "  for attribute, applicant_score in applicant_attributes.items():\n",
        "    cat=attribute_cat[attribute]\n",
        "    diff_score=abs(applicant_score-attribute_mean_dict[attribute])\n",
        "    if cat[1]== \"Similar\":\n",
        "      # Sum up the scores generated by our linear interpolation\n",
        "      v_scores.append(linear_scaling(x=diff_score, v_or_g=cat[0], s_or_d=cat[1], polarized=cat[2]))\n",
        "    elif cat[1]== \"Diverse\":\n",
        "      g_scores.append(linear_scaling(x=diff_score, v_or_g=cat[0], s_or_d=cat[1], polarized=cat[2]))\n",
        "    else:\n",
        "      print(\"Error\")\n",
        "      break\n",
        "\n",
        "  # The final score is the sum of the mean \"Value the most\" score and the mean \"Good to have\" score.\n",
        "  # If the applicant have perfect scores in both fields, then their final score will be 0.8+0.2=1.\n",
        "  final_score= round(np.mean(v_scores)+np.mean(g_scores), 1)\n",
        "  scoredApplicants.append({\"name\" : applicant[\"name\"], \"score\": final_score})\n"
      ],
      "metadata": {
        "id": "tb0Zn-nA_-Ne"
      },
      "execution_count": 86,
      "outputs": []
    },
    {
      "cell_type": "code",
      "source": [
        "scoredApplicants"
      ],
      "metadata": {
        "id": "E3Tk4JTZN9hp",
        "colab": {
          "base_uri": "https://localhost:8080/"
        },
        "outputId": "b8956984-26c9-4056-903b-ab7cc2b0918b"
      },
      "execution_count": 84,
      "outputs": [
        {
          "output_type": "execute_result",
          "data": {
            "text/plain": [
              "[{'name': 'John', 'score': 0.6},\n",
              " {'name': 'Jane', 'score': 0.6},\n",
              " {'name': 'Gabe', 'score': 0.5},\n",
              " {'name': 'Joe', 'score': 0.5}]"
            ]
          },
          "metadata": {},
          "execution_count": 84
        }
      ]
    },
    {
      "cell_type": "code",
      "source": [
        "output_dict={\"scoredApplicants\": scoredApplicants}\n",
        "json_outcome=json.dumps(output_dict)\n",
        "json_outcome"
      ],
      "metadata": {
        "colab": {
          "base_uri": "https://localhost:8080/",
          "height": 35
        },
        "id": "0OThsKw4I2T5",
        "outputId": "c7ce0def-7988-41b0-8983-83957c7c62e8"
      },
      "execution_count": null,
      "outputs": [
        {
          "output_type": "execute_result",
          "data": {
            "text/plain": [
              "'{\"scoredApplicants\": [{\"name\": \"John\", \"score\": 0.3}, {\"name\": \"Jane\", \"score\": 0.7}, {\"name\": \"Gabe\", \"score\": 0.7}, {\"name\": \"Joe\", \"score\": 0.5}]}'"
            ],
            "application/vnd.google.colaboratory.intrinsic+json": {
              "type": "string"
            }
          },
          "metadata": {},
          "execution_count": 19
        }
      ]
    },
    {
      "cell_type": "code",
      "source": [
        "with open(scoredApplicants.json, 'w') as json_file:\n",
        "    json_file.write(json_outcome)"
      ],
      "metadata": {
        "id": "uj1ekWaIOSAk"
      },
      "execution_count": null,
      "outputs": []
    }
  ]
}